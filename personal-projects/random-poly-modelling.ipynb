{
 "cells": [
  {
   "cell_type": "markdown",
   "id": "3856adea",
   "metadata": {
    "papermill": {
     "duration": 0.011677,
     "end_time": "2024-08-02T11:32:05.495001",
     "exception": false,
     "start_time": "2024-08-02T11:32:05.483324",
     "status": "completed"
    },
    "tags": []
   },
   "source": [
    "# Description\n",
    "\n",
    "We will model a random polynomial using a combination of ReLU functions from scratch"
   ]
  },
  {
   "cell_type": "code",
   "execution_count": 1,
   "id": "d188e9ff",
   "metadata": {
    "execution": {
     "iopub.execute_input": "2024-08-02T11:32:05.519951Z",
     "iopub.status.busy": "2024-08-02T11:32:05.519525Z",
     "iopub.status.idle": "2024-08-02T11:32:13.815913Z",
     "shell.execute_reply": "2024-08-02T11:32:13.814250Z"
    },
    "papermill": {
     "duration": 8.311963,
     "end_time": "2024-08-02T11:32:13.818748",
     "exception": false,
     "start_time": "2024-08-02T11:32:05.506785",
     "status": "completed"
    },
    "tags": []
   },
   "outputs": [],
   "source": [
    "from ipywidgets import interact\n",
    "from fastai.basics import *\n",
    "\n",
    "plt.rc('figure', dpi=90)\n",
    "\n",
    "def plot_function(f, title=None, min=-2.1, max=2.1, color='r', ylim=None):\n",
    "    x = torch.linspace(min,max, 100)[:,None]\n",
    "    if ylim: plt.ylim(ylim)\n",
    "    plt.plot(x, f(x), color)\n",
    "    if title is not None: plt.title(title)"
   ]
  },
  {
   "cell_type": "code",
   "execution_count": 2,
   "id": "f56040e9",
   "metadata": {
    "execution": {
     "iopub.execute_input": "2024-08-02T11:32:13.843262Z",
     "iopub.status.busy": "2024-08-02T11:32:13.842715Z",
     "iopub.status.idle": "2024-08-02T11:32:13.848999Z",
     "shell.execute_reply": "2024-08-02T11:32:13.847751Z"
    },
    "papermill": {
     "duration": 0.021592,
     "end_time": "2024-08-02T11:32:13.851627",
     "exception": false,
     "start_time": "2024-08-02T11:32:13.830035",
     "status": "completed"
    },
    "tags": []
   },
   "outputs": [],
   "source": [
    "import numpy as np\n",
    "\n",
    "degree = np.random.randint(low=2, high=20)\n",
    "coefficients = np.random.randn(degree+1)"
   ]
  },
  {
   "cell_type": "code",
   "execution_count": 3,
   "id": "273c401e",
   "metadata": {
    "execution": {
     "iopub.execute_input": "2024-08-02T11:32:13.876192Z",
     "iopub.status.busy": "2024-08-02T11:32:13.875815Z",
     "iopub.status.idle": "2024-08-02T11:32:13.884365Z",
     "shell.execute_reply": "2024-08-02T11:32:13.883197Z"
    },
    "papermill": {
     "duration": 0.023571,
     "end_time": "2024-08-02T11:32:13.886995",
     "exception": false,
     "start_time": "2024-08-02T11:32:13.863424",
     "status": "completed"
    },
    "tags": []
   },
   "outputs": [
    {
     "data": {
      "text/plain": [
       "14"
      ]
     },
     "execution_count": 3,
     "metadata": {},
     "output_type": "execute_result"
    }
   ],
   "source": [
    "degree"
   ]
  },
  {
   "cell_type": "code",
   "execution_count": 4,
   "id": "32846399",
   "metadata": {
    "execution": {
     "iopub.execute_input": "2024-08-02T11:32:13.911529Z",
     "iopub.status.busy": "2024-08-02T11:32:13.911156Z",
     "iopub.status.idle": "2024-08-02T11:32:13.918519Z",
     "shell.execute_reply": "2024-08-02T11:32:13.917305Z"
    },
    "papermill": {
     "duration": 0.022386,
     "end_time": "2024-08-02T11:32:13.921023",
     "exception": false,
     "start_time": "2024-08-02T11:32:13.898637",
     "status": "completed"
    },
    "tags": []
   },
   "outputs": [
    {
     "data": {
      "text/plain": [
       "array([ 1.23961449,  0.24638097,  0.41391987,  0.85575513, -1.411263  ,\n",
       "        1.73284534, -1.72200304, -0.82299679,  1.23873588, -1.87528065,\n",
       "       -0.97206166, -0.09117287, -0.77310077,  1.37780618,  0.24720934])"
      ]
     },
     "execution_count": 4,
     "metadata": {},
     "output_type": "execute_result"
    }
   ],
   "source": [
    "coefficients"
   ]
  },
  {
   "cell_type": "code",
   "execution_count": 5,
   "id": "ad605a2a",
   "metadata": {
    "execution": {
     "iopub.execute_input": "2024-08-02T11:32:13.945894Z",
     "iopub.status.busy": "2024-08-02T11:32:13.945476Z",
     "iopub.status.idle": "2024-08-02T11:32:13.953194Z",
     "shell.execute_reply": "2024-08-02T11:32:13.952071Z"
    },
    "papermill": {
     "duration": 0.022993,
     "end_time": "2024-08-02T11:32:13.955653",
     "exception": false,
     "start_time": "2024-08-02T11:32:13.932660",
     "status": "completed"
    },
    "tags": []
   },
   "outputs": [
    {
     "data": {
      "text/plain": [
       "[14, 13, 12, 11, 10, 9, 8, 7, 6, 5, 4, 3, 2, 1, 0]"
      ]
     },
     "execution_count": 5,
     "metadata": {},
     "output_type": "execute_result"
    }
   ],
   "source": [
    "list(range(degree+1)[::-1])"
   ]
  },
  {
   "cell_type": "code",
   "execution_count": 6,
   "id": "efb1b581",
   "metadata": {
    "execution": {
     "iopub.execute_input": "2024-08-02T11:32:13.981820Z",
     "iopub.status.busy": "2024-08-02T11:32:13.980817Z",
     "iopub.status.idle": "2024-08-02T11:32:14.075251Z",
     "shell.execute_reply": "2024-08-02T11:32:14.073959Z"
    },
    "papermill": {
     "duration": 0.110519,
     "end_time": "2024-08-02T11:32:14.078100",
     "exception": false,
     "start_time": "2024-08-02T11:32:13.967581",
     "status": "completed"
    },
    "tags": []
   },
   "outputs": [],
   "source": [
    "np.random.seed(42)\n",
    "x = torch.linspace(-1,1,steps=1000)[:None]\n",
    "\n",
    "powers = list(range(degree+1)[::-1])\n",
    "\n",
    "x_powers = []\n",
    "\n",
    "for power in powers:\n",
    "    temp = x**power\n",
    "    temp = temp.reshape([len(temp), 1])\n",
    "    if x_powers==[]:\n",
    "        x_powers = temp\n",
    "    else:\n",
    "        x_powers = torch.cat([x_powers, temp], dim=1)"
   ]
  },
  {
   "cell_type": "code",
   "execution_count": 7,
   "id": "453cc01d",
   "metadata": {
    "execution": {
     "iopub.execute_input": "2024-08-02T11:32:14.104045Z",
     "iopub.status.busy": "2024-08-02T11:32:14.103653Z",
     "iopub.status.idle": "2024-08-02T11:32:14.110579Z",
     "shell.execute_reply": "2024-08-02T11:32:14.109403Z"
    },
    "papermill": {
     "duration": 0.022363,
     "end_time": "2024-08-02T11:32:14.113005",
     "exception": false,
     "start_time": "2024-08-02T11:32:14.090642",
     "status": "completed"
    },
    "tags": []
   },
   "outputs": [
    {
     "data": {
      "text/plain": [
       "torch.Size([1000, 15])"
      ]
     },
     "execution_count": 7,
     "metadata": {},
     "output_type": "execute_result"
    }
   ],
   "source": [
    "x_powers.shape"
   ]
  },
  {
   "cell_type": "code",
   "execution_count": 8,
   "id": "7f73e886",
   "metadata": {
    "execution": {
     "iopub.execute_input": "2024-08-02T11:32:14.138918Z",
     "iopub.status.busy": "2024-08-02T11:32:14.138473Z",
     "iopub.status.idle": "2024-08-02T11:32:14.145236Z",
     "shell.execute_reply": "2024-08-02T11:32:14.144151Z"
    },
    "papermill": {
     "duration": 0.023225,
     "end_time": "2024-08-02T11:32:14.147965",
     "exception": false,
     "start_time": "2024-08-02T11:32:14.124740",
     "status": "completed"
    },
    "tags": []
   },
   "outputs": [
    {
     "data": {
      "text/plain": [
       "(15,)"
      ]
     },
     "execution_count": 8,
     "metadata": {},
     "output_type": "execute_result"
    }
   ],
   "source": [
    "coefficients.shape"
   ]
  },
  {
   "cell_type": "code",
   "execution_count": 9,
   "id": "8b6e04cb",
   "metadata": {
    "execution": {
     "iopub.execute_input": "2024-08-02T11:32:14.173779Z",
     "iopub.status.busy": "2024-08-02T11:32:14.173376Z",
     "iopub.status.idle": "2024-08-02T11:32:14.186701Z",
     "shell.execute_reply": "2024-08-02T11:32:14.185487Z"
    },
    "papermill": {
     "duration": 0.029238,
     "end_time": "2024-08-02T11:32:14.189102",
     "exception": false,
     "start_time": "2024-08-02T11:32:14.159864",
     "status": "completed"
    },
    "tags": []
   },
   "outputs": [],
   "source": [
    "y = x_powers @ coefficients"
   ]
  },
  {
   "cell_type": "code",
   "execution_count": 10,
   "id": "f2be2ebe",
   "metadata": {
    "execution": {
     "iopub.execute_input": "2024-08-02T11:32:14.226982Z",
     "iopub.status.busy": "2024-08-02T11:32:14.226261Z",
     "iopub.status.idle": "2024-08-02T11:32:14.237941Z",
     "shell.execute_reply": "2024-08-02T11:32:14.236478Z"
    },
    "papermill": {
     "duration": 0.040702,
     "end_time": "2024-08-02T11:32:14.241873",
     "exception": false,
     "start_time": "2024-08-02T11:32:14.201171",
     "status": "completed"
    },
    "tags": []
   },
   "outputs": [],
   "source": [
    "import numpy as np\n",
    "def noise(x, scale): return np.random.normal(scale=scale, size=x.shape) #scale-> std dev\n",
    "def add_noise(x, mult, add): return x * (1+noise(x,mult)) + noise(x,add)\n",
    "\n",
    "y = add_noise(y, 0.5, 1)"
   ]
  },
  {
   "cell_type": "code",
   "execution_count": 11,
   "id": "20db9d92",
   "metadata": {
    "execution": {
     "iopub.execute_input": "2024-08-02T11:32:14.294026Z",
     "iopub.status.busy": "2024-08-02T11:32:14.293466Z",
     "iopub.status.idle": "2024-08-02T11:32:14.302108Z",
     "shell.execute_reply": "2024-08-02T11:32:14.300894Z"
    },
    "papermill": {
     "duration": 0.038321,
     "end_time": "2024-08-02T11:32:14.305958",
     "exception": false,
     "start_time": "2024-08-02T11:32:14.267637",
     "status": "completed"
    },
    "tags": []
   },
   "outputs": [
    {
     "data": {
      "text/plain": [
       "torch.Size([1000])"
      ]
     },
     "execution_count": 11,
     "metadata": {},
     "output_type": "execute_result"
    }
   ],
   "source": [
    "y.shape"
   ]
  },
  {
   "cell_type": "code",
   "execution_count": 12,
   "id": "8c13fe4b",
   "metadata": {
    "execution": {
     "iopub.execute_input": "2024-08-02T11:32:14.332536Z",
     "iopub.status.busy": "2024-08-02T11:32:14.332153Z",
     "iopub.status.idle": "2024-08-02T11:32:14.338943Z",
     "shell.execute_reply": "2024-08-02T11:32:14.337871Z"
    },
    "papermill": {
     "duration": 0.022606,
     "end_time": "2024-08-02T11:32:14.341335",
     "exception": false,
     "start_time": "2024-08-02T11:32:14.318729",
     "status": "completed"
    },
    "tags": []
   },
   "outputs": [
    {
     "data": {
      "text/plain": [
       "torch.Size([1000])"
      ]
     },
     "execution_count": 12,
     "metadata": {},
     "output_type": "execute_result"
    }
   ],
   "source": [
    "x.shape"
   ]
  },
  {
   "cell_type": "code",
   "execution_count": 13,
   "id": "460d0289",
   "metadata": {
    "execution": {
     "iopub.execute_input": "2024-08-02T11:32:14.368669Z",
     "iopub.status.busy": "2024-08-02T11:32:14.368219Z",
     "iopub.status.idle": "2024-08-02T11:32:14.684404Z",
     "shell.execute_reply": "2024-08-02T11:32:14.683284Z"
    },
    "papermill": {
     "duration": 0.333092,
     "end_time": "2024-08-02T11:32:14.687052",
     "exception": false,
     "start_time": "2024-08-02T11:32:14.353960",
     "status": "completed"
    },
    "tags": []
   },
   "outputs": [
    {
     "data": {
      "text/plain": [
       "<matplotlib.collections.PathCollection at 0x7eaa11c2b910>"
      ]
     },
     "execution_count": 13,
     "metadata": {},
     "output_type": "execute_result"
    },
    {
     "data": {
      "image/png": "[encoded data removed]",
      "text/plain": [
       "<Figure size 576x432 with 1 Axes>"
      ]
     },
     "metadata": {},
     "output_type": "display_data"
    }
   ],
   "source": [
    "plt.scatter(x, y)"
   ]
  },
  {
   "cell_type": "code",
   "execution_count": 14,
   "id": "8a434de7",
   "metadata": {
    "execution": {
     "iopub.execute_input": "2024-08-02T11:32:14.715246Z",
     "iopub.status.busy": "2024-08-02T11:32:14.714843Z",
     "iopub.status.idle": "2024-08-02T11:32:14.720837Z",
     "shell.execute_reply": "2024-08-02T11:32:14.719800Z"
    },
    "papermill": {
     "duration": 0.023115,
     "end_time": "2024-08-02T11:32:14.723440",
     "exception": false,
     "start_time": "2024-08-02T11:32:14.700325",
     "status": "completed"
    },
    "tags": []
   },
   "outputs": [],
   "source": [
    "def mse(act, pred): return ((act-pred)**2).mean()\n",
    "\n",
    "def rectified_linear(m,b,x):\n",
    "\ty = m*x + b\n",
    "\treturn torch.clip(y, 0.0)\n"
   ]
  },
  {
   "cell_type": "code",
   "execution_count": 15,
   "id": "9d94538b",
   "metadata": {
    "execution": {
     "iopub.execute_input": "2024-08-02T11:32:14.751464Z",
     "iopub.status.busy": "2024-08-02T11:32:14.751068Z",
     "iopub.status.idle": "2024-08-02T11:32:14.760197Z",
     "shell.execute_reply": "2024-08-02T11:32:14.759181Z"
    },
    "papermill": {
     "duration": 0.025923,
     "end_time": "2024-08-02T11:32:14.762557",
     "exception": false,
     "start_time": "2024-08-02T11:32:14.736634",
     "status": "completed"
    },
    "tags": []
   },
   "outputs": [],
   "source": [
    "def multi_relu(w1, w2, x):\n",
    "    \"\"\"\n",
    "    MultiReLU is capable to handling weighted combination of any number of ReLU s possible.\n",
    "    Parameters:\n",
    "    - w1 : A matrix of size d * 2, where d is the size of the hidden layer (no of ReLUs we use)\n",
    "           Every ReLU is a seperate row with the m and b part of its column\n",
    "    - w2 : These are individual weights to combine the ReLUs plus the bias term\n",
    "    - x : input variable of size N where N are the no of data points\n",
    "    \"\"\"\n",
    "    \n",
    "    # Step 1: Add the bias feature in a separate row to make x of size N * 2\n",
    "    x = x.reshape((len(x), 1))\n",
    "    ones = torch.ones(x.shape)\n",
    "    x_bias = torch.cat((x, ones), dim=1)\n",
    "    \n",
    "    # Step 2: Matrix multiply x_bias with w1. Apply ReLU\n",
    "    hidden = x_bias @ w1.T\n",
    "    hidden_relu = torch.clip(hidden, 0.0)\n",
    "    \n",
    "    # Step 3: Add the bias parameter to the hidden\n",
    "    ones2 = torch.ones((hidden_relu.shape[0], 1))\n",
    "    hidden_relu_bias = torch.cat((hidden_relu, ones2), dim=1)\n",
    "    \n",
    "    # Step 4: Multiply with w2 to combine ReLU s\n",
    "    y_pred = hidden_relu_bias @ w2\n",
    "    \n",
    "    return y_pred.flatten()"
   ]
  },
  {
   "cell_type": "code",
   "execution_count": 16,
   "id": "b3ab101d",
   "metadata": {
    "execution": {
     "iopub.execute_input": "2024-08-02T11:32:14.790253Z",
     "iopub.status.busy": "2024-08-02T11:32:14.789859Z",
     "iopub.status.idle": "2024-08-02T11:32:15.038057Z",
     "shell.execute_reply": "2024-08-02T11:32:15.037072Z"
    },
    "papermill": {
     "duration": 0.264758,
     "end_time": "2024-08-02T11:32:15.040464",
     "exception": false,
     "start_time": "2024-08-02T11:32:14.775706",
     "status": "completed"
    },
    "tags": []
   },
   "outputs": [
    {
     "data": {
      "image/png": "[encoded data removed]",
      "text/plain": [
       "<Figure size 576x432 with 1 Axes>"
      ]
     },
     "metadata": {},
     "output_type": "display_data"
    }
   ],
   "source": [
    "np.random.seed(42)\n",
    "w1 = np.random.randn(5,2)\n",
    "w2 = np.random.randn(6,1)\n",
    "w1 = torch.tensor(w1, dtype=torch.float32)\n",
    "w2 = torch.tensor(w2, dtype=torch.float32)\n",
    "\n",
    "plot_function(partial(multi_relu, w1, w2), min=-5.1, max=5.1)"
   ]
  },
  {
   "cell_type": "code",
   "execution_count": 17,
   "id": "66bbeb86",
   "metadata": {
    "execution": {
     "iopub.execute_input": "2024-08-02T11:32:15.069230Z",
     "iopub.status.busy": "2024-08-02T11:32:15.068842Z",
     "iopub.status.idle": "2024-08-02T11:32:15.074449Z",
     "shell.execute_reply": "2024-08-02T11:32:15.073306Z"
    },
    "papermill": {
     "duration": 0.023212,
     "end_time": "2024-08-02T11:32:15.077116",
     "exception": false,
     "start_time": "2024-08-02T11:32:15.053904",
     "status": "completed"
    },
    "tags": []
   },
   "outputs": [],
   "source": [
    "def compute_mse(w1, w2):\n",
    "    multi_relu_fixed = partial(multi_relu, w1, w2)\n",
    "    return mse(multi_relu_fixed(x), y)"
   ]
  },
  {
   "cell_type": "markdown",
   "id": "988ae48e",
   "metadata": {
    "papermill": {
     "duration": 0.013038,
     "end_time": "2024-08-02T11:32:15.103747",
     "exception": false,
     "start_time": "2024-08-02T11:32:15.090709",
     "status": "completed"
    },
    "tags": []
   },
   "source": [
    "### One step of backprop"
   ]
  },
  {
   "cell_type": "code",
   "execution_count": 18,
   "id": "11adda46",
   "metadata": {
    "execution": {
     "iopub.execute_input": "2024-08-02T11:32:15.132551Z",
     "iopub.status.busy": "2024-08-02T11:32:15.131581Z",
     "iopub.status.idle": "2024-08-02T11:32:15.188660Z",
     "shell.execute_reply": "2024-08-02T11:32:15.187283Z"
    },
    "papermill": {
     "duration": 0.074147,
     "end_time": "2024-08-02T11:32:15.191227",
     "exception": false,
     "start_time": "2024-08-02T11:32:15.117080",
     "status": "completed"
    },
    "tags": []
   },
   "outputs": [
    {
     "name": "stdout",
     "output_type": "stream",
     "text": [
      "Loss: 25.46\n"
     ]
    }
   ],
   "source": [
    "hidden_dim = degree * 2\n",
    "w1 = np.random.randn(hidden_dim, 2)\n",
    "w2 = np.random.randn(hidden_dim + 1, 1)\n",
    "w1 = torch.tensor(w1, dtype=torch.float32)\n",
    "w2 = torch.tensor(w2, dtype=torch.float32)\n",
    "\n",
    "w1.requires_grad_()\n",
    "w2.requires_grad_()\n",
    "\n",
    "lr = 0.01\n",
    "\n",
    "loss = compute_mse(w1, w2)\n",
    "loss.backward()\n",
    "\n",
    "with torch.no_grad(): \n",
    "    w1 -= (lr*w1.grad)\n",
    "    w2 -= (lr*w2.grad)\n",
    "\n",
    "    w1.grad.zero_()\n",
    "    w2.grad.zero_()\n",
    "    \n",
    "print(f\"Loss: {loss:.2f}\")"
   ]
  },
  {
   "cell_type": "code",
   "execution_count": 19,
   "id": "7a86f8ae",
   "metadata": {
    "execution": {
     "iopub.execute_input": "2024-08-02T11:32:15.220002Z",
     "iopub.status.busy": "2024-08-02T11:32:15.219420Z",
     "iopub.status.idle": "2024-08-02T11:32:15.490924Z",
     "shell.execute_reply": "2024-08-02T11:32:15.489676Z"
    },
    "papermill": {
     "duration": 0.288637,
     "end_time": "2024-08-02T11:32:15.493356",
     "exception": false,
     "start_time": "2024-08-02T11:32:15.204719",
     "status": "completed"
    },
    "tags": []
   },
   "outputs": [
    {
     "data": {
      "image/png": "[encoded data removed]",
      "text/plain": [
       "<Figure size 576x432 with 1 Axes>"
      ]
     },
     "metadata": {},
     "output_type": "display_data"
    }
   ],
   "source": [
    "plot_function(partial(multi_relu, w1.detach(), w2.detach()), min=-1.1, max=1.1)"
   ]
  },
  {
   "cell_type": "markdown",
   "id": "4a9a6895",
   "metadata": {
    "papermill": {
     "duration": 0.015225,
     "end_time": "2024-08-02T11:32:15.523118",
     "exception": false,
     "start_time": "2024-08-02T11:32:15.507893",
     "status": "completed"
    },
    "tags": []
   },
   "source": [
    "### Fixed lr"
   ]
  },
  {
   "cell_type": "code",
   "execution_count": 20,
   "id": "f7c51c01",
   "metadata": {
    "execution": {
     "iopub.execute_input": "2024-08-02T11:32:15.553238Z",
     "iopub.status.busy": "2024-08-02T11:32:15.552795Z",
     "iopub.status.idle": "2024-08-02T11:32:16.347464Z",
     "shell.execute_reply": "2024-08-02T11:32:16.345846Z"
    },
    "papermill": {
     "duration": 0.812698,
     "end_time": "2024-08-02T11:32:16.350274",
     "exception": false,
     "start_time": "2024-08-02T11:32:15.537576",
     "status": "completed"
    },
    "tags": []
   },
   "outputs": [
    {
     "name": "stdout",
     "output_type": "stream",
     "text": [
      "Epoch 100 Loss: 1.28\n",
      "Epoch 200 Loss: 1.23\n",
      "Epoch 300 Loss: 1.21\n",
      "Epoch 400 Loss: 1.19\n",
      "Epoch 500 Loss: 1.19\n",
      "Epoch 600 Loss: 1.18\n",
      "Epoch 700 Loss: 1.17\n",
      "Epoch 800 Loss: 1.17\n",
      "Epoch 900 Loss: 1.17\n",
      "Epoch 1000 Loss: 1.17\n"
     ]
    }
   ],
   "source": [
    "np.random.seed(42)\n",
    "hidden_dim = degree * 4\n",
    "w1 = np.random.randn(hidden_dim, 2)\n",
    "w2 = np.random.randn(hidden_dim + 1, 1)\n",
    "w1 = torch.tensor(w1, dtype=torch.float32)\n",
    "w2 = torch.tensor(w2, dtype=torch.float32)\n",
    "\n",
    "w1.requires_grad_()\n",
    "w2.requires_grad_()\n",
    "\n",
    "lr = 0.01\n",
    "\n",
    "for i in range(1000):\n",
    "    loss = compute_mse(w1, w2)\n",
    "    loss.backward()\n",
    "    \n",
    "    with torch.no_grad(): \n",
    "        w1 -= (lr*w1.grad)\n",
    "        w2 -= (lr*w2.grad)\n",
    "        \n",
    "        w1.grad.zero_()\n",
    "        w2.grad.zero_()\n",
    "        \n",
    "    if (i+1) % 100 == 0:\n",
    "#         print(lr)\n",
    "        print(f\"Epoch {i+1} Loss: {loss:.2f}\")"
   ]
  },
  {
   "cell_type": "code",
   "execution_count": 21,
   "id": "bcda32e7",
   "metadata": {
    "execution": {
     "iopub.execute_input": "2024-08-02T11:32:16.382705Z",
     "iopub.status.busy": "2024-08-02T11:32:16.382301Z",
     "iopub.status.idle": "2024-08-02T11:32:16.622879Z",
     "shell.execute_reply": "2024-08-02T11:32:16.621661Z"
    },
    "papermill": {
     "duration": 0.259487,
     "end_time": "2024-08-02T11:32:16.625664",
     "exception": false,
     "start_time": "2024-08-02T11:32:16.366177",
     "status": "completed"
    },
    "tags": []
   },
   "outputs": [
    {
     "data": {
      "image/png": "[encoded data removed]",
      "text/plain": [
       "<Figure size 576x432 with 1 Axes>"
      ]
     },
     "metadata": {},
     "output_type": "display_data"
    }
   ],
   "source": [
    "plt.scatter(x, y)\n",
    "plot_function(partial(multi_relu, w1.detach(), w2.detach()), min=-1.1, max=1.1)"
   ]
  },
  {
   "cell_type": "markdown",
   "id": "55cc078d",
   "metadata": {
    "papermill": {
     "duration": 0.01454,
     "end_time": "2024-08-02T11:32:16.656862",
     "exception": false,
     "start_time": "2024-08-02T11:32:16.642322",
     "status": "completed"
    },
    "tags": []
   },
   "source": [
    "### lr scheduler"
   ]
  },
  {
   "cell_type": "code",
   "execution_count": 22,
   "id": "c6590cb2",
   "metadata": {
    "execution": {
     "iopub.execute_input": "2024-08-02T11:32:16.688540Z",
     "iopub.status.busy": "2024-08-02T11:32:16.688162Z",
     "iopub.status.idle": "2024-08-02T11:32:17.482166Z",
     "shell.execute_reply": "2024-08-02T11:32:17.480029Z"
    },
    "papermill": {
     "duration": 0.813889,
     "end_time": "2024-08-02T11:32:17.485789",
     "exception": false,
     "start_time": "2024-08-02T11:32:16.671900",
     "status": "completed"
    },
    "tags": []
   },
   "outputs": [
    {
     "name": "stdout",
     "output_type": "stream",
     "text": [
      "Epoch 100 Loss: 1.28\n",
      "Epoch 200 Loss: 1.23\n",
      "Epoch 300 Loss: 1.21\n",
      "Epoch 400 Loss: 1.20\n",
      "Epoch 500 Loss: 1.19\n",
      "Epoch 600 Loss: 1.19\n",
      "Epoch 700 Loss: 1.19\n",
      "Epoch 800 Loss: 1.18\n",
      "Epoch 900 Loss: 1.18\n",
      "Epoch 1000 Loss: 1.18\n"
     ]
    }
   ],
   "source": [
    "np.random.seed(42)\n",
    "hidden_dim = degree * 4\n",
    "w1 = np.random.randn(hidden_dim, 2)\n",
    "w2 = np.random.randn(hidden_dim + 1, 1)\n",
    "w1 = torch.tensor(w1, dtype=torch.float32)\n",
    "w2 = torch.tensor(w2, dtype=torch.float32)\n",
    "\n",
    "w1.requires_grad_()\n",
    "w2.requires_grad_()\n",
    "\n",
    "lr = 0.01\n",
    "\n",
    "for i in range(1000):\n",
    "    loss = compute_mse(w1, w2)\n",
    "    loss.backward()\n",
    "    \n",
    "    with torch.no_grad(): \n",
    "        w1 -= (lr*w1.grad)\n",
    "        w2 -= (lr*w2.grad)\n",
    "        \n",
    "        w1.grad.zero_()\n",
    "        w2.grad.zero_()\n",
    "        \n",
    "    if (i+1)%10 == 0:\n",
    "        lr *= 0.99\n",
    "        \n",
    "    if (i+1) % 100 == 0:\n",
    "#         print(lr)\n",
    "        print(f\"Epoch {i+1} Loss: {loss:.2f}\")"
   ]
  },
  {
   "cell_type": "code",
   "execution_count": 23,
   "id": "985a60b4",
   "metadata": {
    "execution": {
     "iopub.execute_input": "2024-08-02T11:32:17.523196Z",
     "iopub.status.busy": "2024-08-02T11:32:17.522627Z",
     "iopub.status.idle": "2024-08-02T11:32:17.771916Z",
     "shell.execute_reply": "2024-08-02T11:32:17.770299Z"
    },
    "papermill": {
     "duration": 0.27069,
     "end_time": "2024-08-02T11:32:17.774485",
     "exception": false,
     "start_time": "2024-08-02T11:32:17.503795",
     "status": "completed"
    },
    "tags": []
   },
   "outputs": [
    {
     "data": {
      "image/png": "[encoded data removed]",
      "text/plain": [
       "<Figure size 576x432 with 1 Axes>"
      ]
     },
     "metadata": {},
     "output_type": "display_data"
    }
   ],
   "source": [
    "plt.scatter(x, y)\n",
    "plot_function(partial(multi_relu, w1.detach(), w2.detach()), min=-1.1, max=1.1)"
   ]
  },
  {
   "cell_type": "markdown",
   "id": "cd30b991",
   "metadata": {
    "papermill": {
     "duration": 0.016857,
     "end_time": "2024-08-02T11:32:17.807826",
     "exception": false,
     "start_time": "2024-08-02T11:32:17.790969",
     "status": "completed"
    },
    "tags": []
   },
   "source": [
    "## Using torch nn"
   ]
  },
  {
   "cell_type": "code",
   "execution_count": 24,
   "id": "59e41845",
   "metadata": {
    "execution": {
     "iopub.execute_input": "2024-08-02T11:32:17.843949Z",
     "iopub.status.busy": "2024-08-02T11:32:17.843508Z",
     "iopub.status.idle": "2024-08-02T11:32:17.849405Z",
     "shell.execute_reply": "2024-08-02T11:32:17.848239Z"
    },
    "papermill": {
     "duration": 0.027096,
     "end_time": "2024-08-02T11:32:17.851841",
     "exception": false,
     "start_time": "2024-08-02T11:32:17.824745",
     "status": "completed"
    },
    "tags": []
   },
   "outputs": [],
   "source": [
    "import torch\n",
    "import torch.nn as nn\n",
    "import torch.optim as optim"
   ]
  },
  {
   "cell_type": "code",
   "execution_count": 25,
   "id": "3db75520",
   "metadata": {
    "execution": {
     "iopub.execute_input": "2024-08-02T11:32:17.887638Z",
     "iopub.status.busy": "2024-08-02T11:32:17.886770Z",
     "iopub.status.idle": "2024-08-02T11:32:17.895542Z",
     "shell.execute_reply": "2024-08-02T11:32:17.894343Z"
    },
    "papermill": {
     "duration": 0.029934,
     "end_time": "2024-08-02T11:32:17.898055",
     "exception": false,
     "start_time": "2024-08-02T11:32:17.868121",
     "status": "completed"
    },
    "tags": []
   },
   "outputs": [],
   "source": [
    "# Define the neural network model\n",
    "class SimpleQuadraticNN(nn.Module):\n",
    "    def __init__(self, degree):\n",
    "        super(SimpleQuadraticNN, self).__init__()\n",
    "        self.hidden_dim = degree * 4 + 1 \n",
    "        self.hidden = nn.Linear(1, self.hidden_dim)  \n",
    "        self.relu = nn.ReLU()  # ReLU activation\n",
    "        # Define the output layer with 1 unit\n",
    "        self.output = nn.Linear(self.hidden_dim, 1)  \n",
    "\n",
    "    def forward(self, x):\n",
    "        # Forward pass through the hidden layer and ReLU activation\n",
    "        x = self.hidden(x)\n",
    "        x = self.relu(x)\n",
    "        # Forward pass through the output layer\n",
    "        x = self.output(x)\n",
    "        return x"
   ]
  },
  {
   "cell_type": "code",
   "execution_count": 26,
   "id": "0a74685b",
   "metadata": {
    "execution": {
     "iopub.execute_input": "2024-08-02T11:32:17.932498Z",
     "iopub.status.busy": "2024-08-02T11:32:17.932068Z",
     "iopub.status.idle": "2024-08-02T11:32:17.941810Z",
     "shell.execute_reply": "2024-08-02T11:32:17.940128Z"
    },
    "papermill": {
     "duration": 0.030285,
     "end_time": "2024-08-02T11:32:17.944456",
     "exception": false,
     "start_time": "2024-08-02T11:32:17.914171",
     "status": "completed"
    },
    "tags": []
   },
   "outputs": [],
   "source": [
    "# Create an instance of the model\n",
    "model = SimpleQuadraticNN(degree=degree)"
   ]
  },
  {
   "cell_type": "code",
   "execution_count": 27,
   "id": "d5ef0232",
   "metadata": {
    "execution": {
     "iopub.execute_input": "2024-08-02T11:32:17.981969Z",
     "iopub.status.busy": "2024-08-02T11:32:17.981528Z",
     "iopub.status.idle": "2024-08-02T11:32:19.384440Z",
     "shell.execute_reply": "2024-08-02T11:32:19.383038Z"
    },
    "papermill": {
     "duration": 1.424662,
     "end_time": "2024-08-02T11:32:19.387082",
     "exception": false,
     "start_time": "2024-08-02T11:32:17.962420",
     "status": "completed"
    },
    "tags": []
   },
   "outputs": [],
   "source": [
    "# Define the loss function and optimizer\n",
    "criterion = nn.MSELoss()  # Mean Squared Error loss\n",
    "optimizer = optim.Adam(model.parameters(), lr=0.01)  # Adam optimizer"
   ]
  },
  {
   "cell_type": "code",
   "execution_count": 28,
   "id": "08fe0680",
   "metadata": {
    "execution": {
     "iopub.execute_input": "2024-08-02T11:32:19.424362Z",
     "iopub.status.busy": "2024-08-02T11:32:19.423759Z",
     "iopub.status.idle": "2024-08-02T11:32:19.433326Z",
     "shell.execute_reply": "2024-08-02T11:32:19.431932Z"
    },
    "papermill": {
     "duration": 0.031397,
     "end_time": "2024-08-02T11:32:19.435773",
     "exception": false,
     "start_time": "2024-08-02T11:32:19.404376",
     "status": "completed"
    },
    "tags": []
   },
   "outputs": [],
   "source": [
    "def train(model, criterion, optimizer, x_train, y_train, epochs=1000):\n",
    "    for epoch in range(epochs):\n",
    "        model.train()\n",
    "        \n",
    "        # Convert data to tensors\n",
    "        x_train_tensor = torch.tensor(x_train, dtype=torch.float32).unsqueeze(1)  # Add dimension for single feature\n",
    "        y_train_tensor = torch.tensor(y_train, dtype=torch.float32).unsqueeze(1)  # Add dimension for single target\n",
    "        \n",
    "        # Zero the gradients\n",
    "        optimizer.zero_grad()\n",
    "        \n",
    "        # Forward pass\n",
    "        outputs = model(x_train_tensor)\n",
    "        \n",
    "        # Compute loss\n",
    "        loss = criterion(outputs, y_train_tensor)\n",
    "        \n",
    "        # Backward pass and optimization\n",
    "        loss.backward()\n",
    "        optimizer.step()\n",
    "        \n",
    "        # Print loss every 100 epochs\n",
    "        if (epoch+1) % 100 == 0:\n",
    "            print(f'Epoch [{epoch+1}/{epochs}], Loss: {loss.item():.4f}')"
   ]
  },
  {
   "cell_type": "code",
   "execution_count": 29,
   "id": "0e3cff50",
   "metadata": {
    "execution": {
     "iopub.execute_input": "2024-08-02T11:32:19.470104Z",
     "iopub.status.busy": "2024-08-02T11:32:19.469706Z",
     "iopub.status.idle": "2024-08-02T11:32:20.683769Z",
     "shell.execute_reply": "2024-08-02T11:32:20.682683Z"
    },
    "papermill": {
     "duration": 1.234107,
     "end_time": "2024-08-02T11:32:20.686383",
     "exception": false,
     "start_time": "2024-08-02T11:32:19.452276",
     "status": "completed"
    },
    "tags": []
   },
   "outputs": [
    {
     "name": "stderr",
     "output_type": "stream",
     "text": [
      "/tmp/ipykernel_18/235645135.py:6: UserWarning: To copy construct from a tensor, it is recommended to use sourceTensor.clone().detach() or sourceTensor.clone().detach().requires_grad_(True), rather than torch.tensor(sourceTensor).\n",
      "  x_train_tensor = torch.tensor(x_train, dtype=torch.float32).unsqueeze(1)  # Add dimension for single feature\n",
      "/tmp/ipykernel_18/235645135.py:7: UserWarning: To copy construct from a tensor, it is recommended to use sourceTensor.clone().detach() or sourceTensor.clone().detach().requires_grad_(True), rather than torch.tensor(sourceTensor).\n",
      "  y_train_tensor = torch.tensor(y_train, dtype=torch.float32).unsqueeze(1)  # Add dimension for single target\n"
     ]
    },
    {
     "name": "stdout",
     "output_type": "stream",
     "text": [
      "Epoch [100/1000], Loss: 1.1766\n",
      "Epoch [200/1000], Loss: 1.1679\n",
      "Epoch [300/1000], Loss: 1.1656\n",
      "Epoch [400/1000], Loss: 1.1628\n",
      "Epoch [500/1000], Loss: 1.1607\n",
      "Epoch [600/1000], Loss: 1.1598\n",
      "Epoch [700/1000], Loss: 1.1596\n",
      "Epoch [800/1000], Loss: 1.1595\n",
      "Epoch [900/1000], Loss: 1.1595\n",
      "Epoch [1000/1000], Loss: 1.1595\n"
     ]
    }
   ],
   "source": [
    "train(model, criterion, optimizer, x, y)"
   ]
  },
  {
   "cell_type": "code",
   "execution_count": 30,
   "id": "228832ca",
   "metadata": {
    "execution": {
     "iopub.execute_input": "2024-08-02T11:32:20.721238Z",
     "iopub.status.busy": "2024-08-02T11:32:20.720816Z",
     "iopub.status.idle": "2024-08-02T11:32:21.042303Z",
     "shell.execute_reply": "2024-08-02T11:32:21.041174Z"
    },
    "papermill": {
     "duration": 0.341404,
     "end_time": "2024-08-02T11:32:21.044640",
     "exception": false,
     "start_time": "2024-08-02T11:32:20.703236",
     "status": "completed"
    },
    "tags": []
   },
   "outputs": [
    {
     "data": {
      "image/png": "[encoded data removed]",
      "text/plain": [
       "<Figure size 576x432 with 1 Axes>"
      ]
     },
     "metadata": {},
     "output_type": "display_data"
    }
   ],
   "source": [
    "model.eval()  # Set model to evaluation mode\n",
    "plt.scatter(x,y)\n",
    "\n",
    "with torch.no_grad():\n",
    "    plot_function(model, min=-1.1, max=1.1)"
   ]
  },
  {
   "cell_type": "code",
   "execution_count": null,
   "id": "b3097ce8",
   "metadata": {
    "papermill": {
     "duration": 0.017361,
     "end_time": "2024-08-02T11:32:21.079682",
     "exception": false,
     "start_time": "2024-08-02T11:32:21.062321",
     "status": "completed"
    },
    "tags": []
   },
   "outputs": [],
   "source": []
  }
 ],
 "metadata": {
  "kaggle": {
   "accelerator": "none",
   "dataSources": [],
   "dockerImageVersionId": 30746,
   "isGpuEnabled": false,
   "isInternetEnabled": true,
   "language": "python",
   "sourceType": "notebook"
  },
  "kernelspec": {
   "display_name": "Python 3",
   "language": "python",
   "name": "python3"
  },
  "language_info": {
   "codemirror_mode": {
    "name": "ipython",
    "version": 3
   },
   "file_extension": ".py",
   "mimetype": "text/x-python",
   "name": "python",
   "nbconvert_exporter": "python",
   "pygments_lexer": "ipython3",
   "version": "3.10.13"
  },
  "papermill": {
   "default_parameters": {},
   "duration": 20.07436,
   "end_time": "2024-08-02T11:32:22.423329",
   "environment_variables": {},
   "exception": null,
   "input_path": "__notebook__.ipynb",
   "output_path": "__notebook__.ipynb",
   "parameters": {},
   "start_time": "2024-08-02T11:32:02.348969",
   "version": "2.5.0"
  }
 },
 "nbformat": 4,
 "nbformat_minor": 5
}
